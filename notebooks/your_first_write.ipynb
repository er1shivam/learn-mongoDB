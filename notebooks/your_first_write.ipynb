{
 "cells": [
  {
   "cell_type": "code",
   "execution_count": 1,
   "metadata": {},
   "outputs": [
    {
     "data": {
      "text/plain": [
       "True"
      ]
     },
     "execution_count": 1,
     "metadata": {},
     "output_type": "execute_result"
    }
   ],
   "source": [
    "import os\n",
    "from dotenv import load_dotenv\n",
    "\n",
    "load_dotenv(\"../.credentials\")"
   ]
  },
  {
   "cell_type": "code",
   "execution_count": 5,
   "metadata": {},
   "outputs": [
    {
     "data": {
      "text/plain": [
       "['sample_airbnb',\n",
       " 'sample_analytics',\n",
       " 'sample_geospatial',\n",
       " 'sample_guides',\n",
       " 'sample_mflix',\n",
       " 'sample_restaurants',\n",
       " 'sample_supplies',\n",
       " 'sample_training',\n",
       " 'sample_weatherdata',\n",
       " 'admin',\n",
       " 'local']"
      ]
     },
     "execution_count": 5,
     "metadata": {},
     "output_type": "execute_result"
    }
   ],
   "source": [
    "import pymongo\n",
    "uri = os.environ.get(\"URI\")\n",
    "client = pymongo.MongoClient(uri)\n",
    "client.list_database_names()"
   ]
  },
  {
   "cell_type": "code",
   "execution_count": 6,
   "metadata": {},
   "outputs": [],
   "source": [
    "db = client.electronicsDB"
   ]
  },
  {
   "cell_type": "code",
   "execution_count": 7,
   "metadata": {},
   "outputs": [
    {
     "name": "stderr",
     "output_type": "stream",
     "text": [
      "/var/folders/26/wps0wjl102n8g8zxvtcvtx4w0000gn/T/ipykernel_6994/2955859118.py:2: DeprecationWarning: collection_names is deprecated. Use list_collection_names instead.\n",
      "  db.collection_names()\n"
     ]
    },
    {
     "data": {
      "text/plain": [
       "[]"
      ]
     },
     "execution_count": 7,
     "metadata": {},
     "output_type": "execute_result"
    }
   ],
   "source": [
    "# list the collections in the electronicsDB\n",
    "db.collection_names()"
   ]
  },
  {
   "cell_type": "code",
   "execution_count": 8,
   "metadata": {},
   "outputs": [],
   "source": [
    "vg = db.video_games"
   ]
  },
  {
   "cell_type": "code",
   "execution_count": 9,
   "metadata": {},
   "outputs": [],
   "source": [
    "# insert a new document with \"title\" and \"year\" fields - an \"_id\" will be assigned by MongoDB\n",
    "# store the insert result in insert_result\n",
    "insert_result = vg.insert_one({\"title\": \"Fortnite\", \"year\": 2018})"
   ]
  },
  {
   "cell_type": "code",
   "execution_count": 10,
   "metadata": {},
   "outputs": [
    {
     "data": {
      "text/plain": [
       "True"
      ]
     },
     "execution_count": 10,
     "metadata": {},
     "output_type": "execute_result"
    }
   ],
   "source": [
    "# check if the insert was acknowledged by the server\n",
    "insert_result.acknowledged"
   ]
  },
  {
   "cell_type": "code",
   "execution_count": 11,
   "metadata": {},
   "outputs": [
    {
     "data": {
      "text/plain": [
       "ObjectId('626e1b4606a6001b52bdbb67')"
      ]
     },
     "execution_count": 11,
     "metadata": {},
     "output_type": "execute_result"
    }
   ],
   "source": [
    "# retrieve the \"_id\" value of the document we just inserted\n",
    "insert_result.inserted_id"
   ]
  },
  {
   "cell_type": "code",
   "execution_count": 12,
   "metadata": {},
   "outputs": [
    {
     "data": {
      "text/plain": [
       "{'_id': ObjectId('626e1b4606a6001b52bdbb67'),\n",
       " 'title': 'Fortnite',\n",
       " 'year': 2018}"
      ]
     },
     "execution_count": 12,
     "metadata": {},
     "output_type": "execute_result"
    }
   ],
   "source": [
    "# find the document we just inserted by using its \"_id\"\n",
    "# we can do this because \"_id\" is unique by collection\n",
    "vg.find_one( { \"_id\": insert_result.inserted_id } )"
   ]
  },
  {
   "cell_type": "markdown",
   "metadata": {},
   "source": [
    "## Upserts vs. Updates\n",
    "Sometimes, we want to update a document, but we're not sure if it exists in the collection.\n",
    "\n",
    "We can use an \"upsert\" to update a document if it exists, and insert it if it does not exist.\n",
    "\n",
    "In the following example, we're not sure if this video game exists in our collection, but we want to make sure there is a document in the collection that contains the correct data.\n",
    "\n",
    "This operation may do one of two things:\n",
    "\n",
    "1. If the predicate matches a document, update the document to\n",
    "   contain the correct data.\n",
    "\n",
    "2. If the document doesn't exist, create the desired document.\n"
   ]
  },
  {
   "cell_type": "code",
   "execution_count": 13,
   "metadata": {},
   "outputs": [],
   "source": [
    "fortnite_doc = {\"title\": \"Fortnite\", \"year\": 2018}\n",
    "\n",
    "# the query predicate here is { \"title\": \"Fortnite\" }\n",
    "# that will match the document we just inserted\n",
    "# so this statement will update this document with the contents of \"fortnite_doc\"\n",
    "upsert_result = vg.update_one( { \"title\": \"Fortnite\" } , { \"$set\": fortnite_doc }, upsert=True )"
   ]
  },
  {
   "cell_type": "code",
   "execution_count": 14,
   "metadata": {},
   "outputs": [
    {
     "data": {
      "text/plain": [
       "{'n': 1,\n",
       " 'electionId': ObjectId('7fffffff0000000000000049'),\n",
       " 'opTime': {'ts': Timestamp(1651383165, 2), 't': 73},\n",
       " 'nModified': 0,\n",
       " 'ok': 1.0,\n",
       " '$clusterTime': {'clusterTime': Timestamp(1651383165, 2),\n",
       "  'signature': {'hash': b'\\xa3\\x81Wt\\x8f\\x1d\\x9d\\x9d\\xcdAG~\\xd93\\xcd|\\xa7\\xde\\xddS',\n",
       "   'keyId': 7051241787746156545}},\n",
       " 'operationTime': Timestamp(1651383165, 2),\n",
       " 'updatedExisting': True}"
      ]
     },
     "execution_count": 14,
     "metadata": {},
     "output_type": "execute_result"
    }
   ],
   "source": [
    "# this result object should have 'updatedExisting': True\n",
    "# because this operation updated an existing document\n",
    "upsert_result.raw_result"
   ]
  },
  {
   "cell_type": "code",
   "execution_count": 15,
   "metadata": {},
   "outputs": [],
   "source": [
    "rocketleague_doc = {\"title\": \"Rocket League\", \"year\": 2015}\n",
    "\n",
    "# the query predicate here is { \"title\": \"Rocket League\" }\n",
    "# that won't match any documents, so this will insert \"rocketleague_doc\" as a new document\n",
    "upsert_result = vg.update_one( { \"title\": \"Rocket League\" }, { \"$set\": rocketleague_doc }, upsert=True )"
   ]
  },
  {
   "cell_type": "code",
   "execution_count": 16,
   "metadata": {},
   "outputs": [
    {
     "data": {
      "text/plain": [
       "{'n': 1,\n",
       " 'electionId': ObjectId('7fffffff0000000000000049'),\n",
       " 'opTime': {'ts': Timestamp(1651383196, 1082), 't': 73},\n",
       " 'upserted': ObjectId('626e1b9ced406b03abbc4f69'),\n",
       " 'nModified': 0,\n",
       " 'ok': 1.0,\n",
       " '$clusterTime': {'clusterTime': Timestamp(1651383196, 1082),\n",
       "  'signature': {'hash': b\"'vX\\xd7\\xf0\\xf8\\x04 \\x0eN\\x87\\xdc\\x86^\\x1c\\x1br\\xb6^\\xf8\",\n",
       "   'keyId': 7051241787746156545}},\n",
       " 'operationTime': Timestamp(1651383196, 1082),\n",
       " 'updatedExisting': False}"
      ]
     },
     "execution_count": 16,
     "metadata": {},
     "output_type": "execute_result"
    }
   ],
   "source": [
    "# this result object should have 'updatedExisting': False\n",
    "# because this operation inserted a new document\n",
    "# it also has an 'upserted' field with the \"_id\" of the new document\n",
    "upsert_result.raw_result"
   ]
  },
  {
   "cell_type": "code",
   "execution_count": null,
   "metadata": {},
   "outputs": [],
   "source": []
  }
 ],
 "metadata": {
  "kernelspec": {
   "display_name": "Python 3",
   "language": "python",
   "name": "python3"
  },
  "language_info": {
   "codemirror_mode": {
    "name": "ipython",
    "version": 3
   },
   "file_extension": ".py",
   "mimetype": "text/x-python",
   "name": "python",
   "nbconvert_exporter": "python",
   "pygments_lexer": "ipython3",
   "version": "3.8.9"
  }
 },
 "nbformat": 4,
 "nbformat_minor": 2
}
